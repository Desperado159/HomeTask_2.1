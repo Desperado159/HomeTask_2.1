{
 "cells": [
  {
   "cell_type": "code",
   "execution_count": 1,
   "id": "3a7f57b7",
   "metadata": {},
   "outputs": [
    {
     "name": "stdout",
     "output_type": "stream",
     "text": [
      "Final Estimation of Pi= 3.1232\n"
     ]
    }
   ],
   "source": [
    "import random\n",
    "dot_count  = 100\n",
    "circle_dot = 0\n",
    "square_dot = 0\n",
    "for i in range(dot_count**2):\n",
    "    rand_x = random.uniform(-1, 1)\n",
    "    rand_y = random.uniform(-1, 1)\n",
    "    origin_dist = rand_x**2 + rand_y**2\n",
    "    if origin_dist <= 1: circle_dot += 1\n",
    "    square_dot += 1\n",
    "pi = 4 * circle_dot / square_dot\n",
    "print(\"Final Estimation of Pi=\", pi)"
   ]
  },
  {
   "cell_type": "code",
   "execution_count": null,
   "id": "b869e99e",
   "metadata": {},
   "outputs": [],
   "source": []
  }
 ],
 "metadata": {
  "kernelspec": {
   "display_name": "Python 3 (ipykernel)",
   "language": "python",
   "name": "python3"
  },
  "language_info": {
   "codemirror_mode": {
    "name": "ipython",
    "version": 3
   },
   "file_extension": ".py",
   "mimetype": "text/x-python",
   "name": "python",
   "nbconvert_exporter": "python",
   "pygments_lexer": "ipython3",
   "version": "3.9.13"
  }
 },
 "nbformat": 4,
 "nbformat_minor": 5
}
